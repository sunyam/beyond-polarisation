{
 "cells": [
  {
   "cell_type": "code",
   "execution_count": 1,
   "metadata": {},
   "outputs": [],
   "source": [
    "import csv\n",
    "import pandas as pd\n",
    "import seaborn as sns\n",
    "import matplotlib.pyplot as plt\n",
    "%matplotlib inline"
   ]
  },
  {
   "cell_type": "code",
   "execution_count": 2,
   "metadata": {
    "scrolled": false
   },
   "outputs": [
    {
     "data": {
      "text/html": [
       "<div>\n",
       "<style scoped>\n",
       "    .dataframe tbody tr th:only-of-type {\n",
       "        vertical-align: middle;\n",
       "    }\n",
       "\n",
       "    .dataframe tbody tr th {\n",
       "        vertical-align: top;\n",
       "    }\n",
       "\n",
       "    .dataframe thead th {\n",
       "        text-align: right;\n",
       "    }\n",
       "</style>\n",
       "<table border=\"1\" class=\"dataframe\">\n",
       "  <thead>\n",
       "    <tr style=\"text-align: right;\">\n",
       "      <th></th>\n",
       "      <th>id</th>\n",
       "      <th>speaker_id</th>\n",
       "      <th>speaker_label</th>\n",
       "      <th>parent_id</th>\n",
       "      <th>addressee_id</th>\n",
       "      <th>addressee_label</th>\n",
       "      <th>subreddit</th>\n",
       "      <th>text</th>\n",
       "      <th>is_comment</th>\n",
       "      <th>compound_VADER</th>\n",
       "      <th>neg_VADER</th>\n",
       "    </tr>\n",
       "  </thead>\n",
       "  <tbody>\n",
       "    <tr>\n",
       "      <td>0</td>\n",
       "      <td>43lpuz</td>\n",
       "      <td>moving-target</td>\n",
       "      <td>Liberal</td>\n",
       "      <td>NaN</td>\n",
       "      <td>NaN</td>\n",
       "      <td>NaN</td>\n",
       "      <td>SandersForPresident</td>\n",
       "      <td>Oh man msnbc is just full on making shit up an...</td>\n",
       "      <td>False</td>\n",
       "      <td>-0.5574</td>\n",
       "      <td>0.205</td>\n",
       "    </tr>\n",
       "    <tr>\n",
       "      <td>1</td>\n",
       "      <td>43lpwo</td>\n",
       "      <td>TaylorSwift2014</td>\n",
       "      <td>Liberal</td>\n",
       "      <td>NaN</td>\n",
       "      <td>NaN</td>\n",
       "      <td>NaN</td>\n",
       "      <td>SandersForPresident</td>\n",
       "      <td>Where online will I be able to view results as...</td>\n",
       "      <td>False</td>\n",
       "      <td>0.0000</td>\n",
       "      <td>0.000</td>\n",
       "    </tr>\n",
       "    <tr>\n",
       "      <td>2</td>\n",
       "      <td>43lq2k</td>\n",
       "      <td>writingtoss</td>\n",
       "      <td>Liberal</td>\n",
       "      <td>NaN</td>\n",
       "      <td>NaN</td>\n",
       "      <td>NaN</td>\n",
       "      <td>SandersForPresident</td>\n",
       "      <td>On Iowa; or, On, Iowa!</td>\n",
       "      <td>False</td>\n",
       "      <td>0.0000</td>\n",
       "      <td>0.000</td>\n",
       "    </tr>\n",
       "    <tr>\n",
       "      <td>3</td>\n",
       "      <td>43lqdn</td>\n",
       "      <td>flameruler94</td>\n",
       "      <td>Liberal</td>\n",
       "      <td>NaN</td>\n",
       "      <td>NaN</td>\n",
       "      <td>NaN</td>\n",
       "      <td>SandersForPresident</td>\n",
       "      <td>Best way to follow results tomorrow?</td>\n",
       "      <td>False</td>\n",
       "      <td>0.6369</td>\n",
       "      <td>0.000</td>\n",
       "    </tr>\n",
       "    <tr>\n",
       "      <td>4</td>\n",
       "      <td>43lqfg</td>\n",
       "      <td>JASJMS</td>\n",
       "      <td>Liberal</td>\n",
       "      <td>NaN</td>\n",
       "      <td>NaN</td>\n",
       "      <td>NaN</td>\n",
       "      <td>SandersForPresident</td>\n",
       "      <td>Any more polls coming out before tomorrow night?</td>\n",
       "      <td>False</td>\n",
       "      <td>0.0000</td>\n",
       "      <td>0.000</td>\n",
       "    </tr>\n",
       "  </tbody>\n",
       "</table>\n",
       "</div>"
      ],
      "text/plain": [
       "       id       speaker_id speaker_label parent_id addressee_id  \\\n",
       "0  43lpuz    moving-target       Liberal       NaN          NaN   \n",
       "1  43lpwo  TaylorSwift2014       Liberal       NaN          NaN   \n",
       "2  43lq2k      writingtoss       Liberal       NaN          NaN   \n",
       "3  43lqdn     flameruler94       Liberal       NaN          NaN   \n",
       "4  43lqfg           JASJMS       Liberal       NaN          NaN   \n",
       "\n",
       "  addressee_label            subreddit  \\\n",
       "0             NaN  SandersForPresident   \n",
       "1             NaN  SandersForPresident   \n",
       "2             NaN  SandersForPresident   \n",
       "3             NaN  SandersForPresident   \n",
       "4             NaN  SandersForPresident   \n",
       "\n",
       "                                                text  is_comment  \\\n",
       "0  Oh man msnbc is just full on making shit up an...       False   \n",
       "1  Where online will I be able to view results as...       False   \n",
       "2                             On Iowa; or, On, Iowa!       False   \n",
       "3               Best way to follow results tomorrow?       False   \n",
       "4   Any more polls coming out before tomorrow night?       False   \n",
       "\n",
       "   compound_VADER  neg_VADER  \n",
       "0         -0.5574      0.205  \n",
       "1          0.0000      0.000  \n",
       "2          0.0000      0.000  \n",
       "3          0.6369      0.000  \n",
       "4          0.0000      0.000  "
      ]
     },
     "execution_count": 2,
     "metadata": {},
     "output_type": "execute_result"
    }
   ],
   "source": [
    "df = pd.read_csv('./dataset_with_sent.tsv', delimiter='\\t', lineterminator='\\n')\n",
    "df.head()"
   ]
  },
  {
   "cell_type": "code",
   "execution_count": 3,
   "metadata": {},
   "outputs": [
    {
     "name": "stdout",
     "output_type": "stream",
     "text": [
      "915\n",
      "Initially:  (8124848, 11)\n",
      "After:  (8123933, 11)\n"
     ]
    }
   ],
   "source": [
    "# Load Skipped IDs (text = NaN)\n",
    "with open('./src/skipped_ids.csv', 'r') as file:\n",
    "    reader = csv.reader(file)\n",
    "    for row in reader:\n",
    "        skipped_ids = row\n",
    "        \n",
    "print(len(skipped_ids))\n",
    "\n",
    "print(\"Initially: \", df.shape)\n",
    "df = df.loc[~df['id'].isin(skipped_ids)] # Remove empty text rows\n",
    "print(\"After: \", df.shape)"
   ]
  },
  {
   "cell_type": "code",
   "execution_count": 4,
   "metadata": {},
   "outputs": [
    {
     "data": {
      "text/plain": [
       "Liberal         4636518\n",
       "Conservative    3487415\n",
       "Name: speaker_label, dtype: int64"
      ]
     },
     "execution_count": 4,
     "metadata": {},
     "output_type": "execute_result"
    }
   ],
   "source": [
    "df['speaker_label'].value_counts()"
   ]
  },
  {
   "cell_type": "code",
   "execution_count": 5,
   "metadata": {},
   "outputs": [
    {
     "data": {
      "text/plain": [
       "Text(0.5, 1.0, \"Distribution of VADER's compound score (8.1M)\")"
      ]
     },
     "execution_count": 5,
     "metadata": {},
     "output_type": "execute_result"
    },
    {
     "data": {
      "image/png": "[encoded data removed]",
      "text/plain": [
       "<Figure size 432x288 with 1 Axes>"
      ]
     },
     "metadata": {
      "needs_background": "light"
     },
     "output_type": "display_data"
    }
   ],
   "source": [
    "plt.hist(df['compound_VADER'].tolist(), bins=25)\n",
    "plt.ylabel('Number of Comments')\n",
    "plt.xlabel('Sentiment Score')\n",
    "plt.title(\"Distribution of VADER's compound score (8.1M)\")"
   ]
  },
  {
   "cell_type": "code",
   "execution_count": 6,
   "metadata": {},
   "outputs": [
    {
     "data": {
      "text/plain": [
       "Text(0.5, 1.0, \"Distribution of VADER's neg score (8.1M)\")"
      ]
     },
     "execution_count": 6,
     "metadata": {},
     "output_type": "execute_result"
    },
    {
     "data": {
      "image/png": "[encoded data removed]",
      "text/plain": [
       "<Figure size 432x288 with 1 Axes>"
      ]
     },
     "metadata": {
      "needs_background": "light"
     },
     "output_type": "display_data"
    }
   ],
   "source": [
    "plt.hist(df['neg_VADER'].tolist(), bins=25)\n",
    "plt.ylabel('Number of Comments')\n",
    "plt.xlabel('Negative Score')\n",
    "plt.title(\"Distribution of VADER's neg score (8.1M)\")"
   ]
  },
  {
   "cell_type": "markdown",
   "metadata": {},
   "source": [
    "### Using the recommended <a href='https://github.com/cjhutto/vaderSentiment#about-the-scoring'>standardized threshold scores</a> for binning into positive, negative, & neutral:"
   ]
  },
  {
   "cell_type": "code",
   "execution_count": 7,
   "metadata": {},
   "outputs": [
    {
     "data": {
      "text/html": [
       "<div>\n",
       "<style scoped>\n",
       "    .dataframe tbody tr th:only-of-type {\n",
       "        vertical-align: middle;\n",
       "    }\n",
       "\n",
       "    .dataframe tbody tr th {\n",
       "        vertical-align: top;\n",
       "    }\n",
       "\n",
       "    .dataframe thead th {\n",
       "        text-align: right;\n",
       "    }\n",
       "</style>\n",
       "<table border=\"1\" class=\"dataframe\">\n",
       "  <thead>\n",
       "    <tr style=\"text-align: right;\">\n",
       "      <th></th>\n",
       "      <th>id</th>\n",
       "      <th>speaker_id</th>\n",
       "      <th>speaker_label</th>\n",
       "      <th>parent_id</th>\n",
       "      <th>addressee_id</th>\n",
       "      <th>addressee_label</th>\n",
       "      <th>subreddit</th>\n",
       "      <th>text</th>\n",
       "      <th>is_comment</th>\n",
       "      <th>compound_VADER</th>\n",
       "      <th>neg_VADER</th>\n",
       "      <th>sentiment</th>\n",
       "    </tr>\n",
       "  </thead>\n",
       "  <tbody>\n",
       "    <tr>\n",
       "      <td>0</td>\n",
       "      <td>43lpuz</td>\n",
       "      <td>moving-target</td>\n",
       "      <td>Liberal</td>\n",
       "      <td>NaN</td>\n",
       "      <td>NaN</td>\n",
       "      <td>NaN</td>\n",
       "      <td>SandersForPresident</td>\n",
       "      <td>Oh man msnbc is just full on making shit up an...</td>\n",
       "      <td>False</td>\n",
       "      <td>-0.5574</td>\n",
       "      <td>0.205</td>\n",
       "      <td>negative</td>\n",
       "    </tr>\n",
       "    <tr>\n",
       "      <td>1</td>\n",
       "      <td>43lpwo</td>\n",
       "      <td>TaylorSwift2014</td>\n",
       "      <td>Liberal</td>\n",
       "      <td>NaN</td>\n",
       "      <td>NaN</td>\n",
       "      <td>NaN</td>\n",
       "      <td>SandersForPresident</td>\n",
       "      <td>Where online will I be able to view results as...</td>\n",
       "      <td>False</td>\n",
       "      <td>0.0000</td>\n",
       "      <td>0.000</td>\n",
       "      <td>neutral</td>\n",
       "    </tr>\n",
       "    <tr>\n",
       "      <td>2</td>\n",
       "      <td>43lq2k</td>\n",
       "      <td>writingtoss</td>\n",
       "      <td>Liberal</td>\n",
       "      <td>NaN</td>\n",
       "      <td>NaN</td>\n",
       "      <td>NaN</td>\n",
       "      <td>SandersForPresident</td>\n",
       "      <td>On Iowa; or, On, Iowa!</td>\n",
       "      <td>False</td>\n",
       "      <td>0.0000</td>\n",
       "      <td>0.000</td>\n",
       "      <td>neutral</td>\n",
       "    </tr>\n",
       "    <tr>\n",
       "      <td>3</td>\n",
       "      <td>43lqdn</td>\n",
       "      <td>flameruler94</td>\n",
       "      <td>Liberal</td>\n",
       "      <td>NaN</td>\n",
       "      <td>NaN</td>\n",
       "      <td>NaN</td>\n",
       "      <td>SandersForPresident</td>\n",
       "      <td>Best way to follow results tomorrow?</td>\n",
       "      <td>False</td>\n",
       "      <td>0.6369</td>\n",
       "      <td>0.000</td>\n",
       "      <td>positive</td>\n",
       "    </tr>\n",
       "    <tr>\n",
       "      <td>4</td>\n",
       "      <td>43lqfg</td>\n",
       "      <td>JASJMS</td>\n",
       "      <td>Liberal</td>\n",
       "      <td>NaN</td>\n",
       "      <td>NaN</td>\n",
       "      <td>NaN</td>\n",
       "      <td>SandersForPresident</td>\n",
       "      <td>Any more polls coming out before tomorrow night?</td>\n",
       "      <td>False</td>\n",
       "      <td>0.0000</td>\n",
       "      <td>0.000</td>\n",
       "      <td>neutral</td>\n",
       "    </tr>\n",
       "  </tbody>\n",
       "</table>\n",
       "</div>"
      ],
      "text/plain": [
       "       id       speaker_id speaker_label parent_id addressee_id  \\\n",
       "0  43lpuz    moving-target       Liberal       NaN          NaN   \n",
       "1  43lpwo  TaylorSwift2014       Liberal       NaN          NaN   \n",
       "2  43lq2k      writingtoss       Liberal       NaN          NaN   \n",
       "3  43lqdn     flameruler94       Liberal       NaN          NaN   \n",
       "4  43lqfg           JASJMS       Liberal       NaN          NaN   \n",
       "\n",
       "  addressee_label            subreddit  \\\n",
       "0             NaN  SandersForPresident   \n",
       "1             NaN  SandersForPresident   \n",
       "2             NaN  SandersForPresident   \n",
       "3             NaN  SandersForPresident   \n",
       "4             NaN  SandersForPresident   \n",
       "\n",
       "                                                text  is_comment  \\\n",
       "0  Oh man msnbc is just full on making shit up an...       False   \n",
       "1  Where online will I be able to view results as...       False   \n",
       "2                             On Iowa; or, On, Iowa!       False   \n",
       "3               Best way to follow results tomorrow?       False   \n",
       "4   Any more polls coming out before tomorrow night?       False   \n",
       "\n",
       "   compound_VADER  neg_VADER sentiment  \n",
       "0         -0.5574      0.205  negative  \n",
       "1          0.0000      0.000   neutral  \n",
       "2          0.0000      0.000   neutral  \n",
       "3          0.6369      0.000  positive  \n",
       "4          0.0000      0.000   neutral  "
      ]
     },
     "execution_count": 7,
     "metadata": {},
     "output_type": "execute_result"
    }
   ],
   "source": [
    "def f(row):\n",
    "    if row['compound_VADER'] >= 0.05:\n",
    "        val = 'positive'\n",
    "    elif row['compound_VADER'] <= -0.05:\n",
    "        val = 'negative'\n",
    "    elif row['compound_VADER'] > -0.05 and row['compound_VADER'] < 0.05:\n",
    "        val = 'neutral'\n",
    "    else:\n",
    "        print(\"Why! Text = \", row['text'], \"Senti-score = \", row['compound_VADER'])\n",
    "        val = -1000000\n",
    "    return val\n",
    "\n",
    "df['sentiment'] = df.apply(f, axis=1)\n",
    "df.head()"
   ]
  },
  {
   "cell_type": "markdown",
   "metadata": {},
   "source": [
    "### 1. Only by Speaker Label (8.1 million comments):"
   ]
  },
  {
   "cell_type": "code",
   "execution_count": 8,
   "metadata": {},
   "outputs": [
    {
     "data": {
      "text/plain": [
       "Text(0.5, 1.0, 'Sentiment distrbution by Speaker Label (8.1M)')"
      ]
     },
     "execution_count": 8,
     "metadata": {},
     "output_type": "execute_result"
    },
    {
     "data": {
      "image/png": "[encoded data removed]",
      "text/plain": [
       "<Figure size 432x288 with 1 Axes>"
      ]
     },
     "metadata": {
      "needs_background": "light"
     },
     "output_type": "display_data"
    }
   ],
   "source": [
    "p4 = sns.countplot(x=df['sentiment'], hue=df['speaker_label'], order=(\"negative\", \"neutral\", \"positive\"))\n",
    "p4.set_xlabel('VADER Sentiment Score')\n",
    "p4.set_ylabel('Count')\n",
    "p4.legend(title='Author Label', title_fontsize=12)\n",
    "p4.set_title('Sentiment distrbution by Speaker Label (8.1M)', fontsize=14)"
   ]
  },
  {
   "cell_type": "code",
   "execution_count": 9,
   "metadata": {},
   "outputs": [
    {
     "data": {
      "text/plain": [
       "(2907737, 12)"
      ]
     },
     "execution_count": 9,
     "metadata": {},
     "output_type": "execute_result"
    }
   ],
   "source": [
    "# Remove comments corresponding to unknown addressee(s):\n",
    "df = df[df['addressee_label'].notna()]\n",
    "df.shape"
   ]
  },
  {
   "cell_type": "code",
   "execution_count": 10,
   "metadata": {},
   "outputs": [
    {
     "data": {
      "text/html": [
       "<div>\n",
       "<style scoped>\n",
       "    .dataframe tbody tr th:only-of-type {\n",
       "        vertical-align: middle;\n",
       "    }\n",
       "\n",
       "    .dataframe tbody tr th {\n",
       "        vertical-align: top;\n",
       "    }\n",
       "\n",
       "    .dataframe thead th {\n",
       "        text-align: right;\n",
       "    }\n",
       "</style>\n",
       "<table border=\"1\" class=\"dataframe\">\n",
       "  <thead>\n",
       "    <tr style=\"text-align: right;\">\n",
       "      <th></th>\n",
       "      <th>id</th>\n",
       "      <th>speaker_id</th>\n",
       "      <th>speaker_label</th>\n",
       "      <th>parent_id</th>\n",
       "      <th>addressee_id</th>\n",
       "      <th>addressee_label</th>\n",
       "      <th>subreddit</th>\n",
       "      <th>text</th>\n",
       "      <th>is_comment</th>\n",
       "      <th>compound_VADER</th>\n",
       "      <th>neg_VADER</th>\n",
       "      <th>sentiment</th>\n",
       "      <th>interlocutors</th>\n",
       "    </tr>\n",
       "  </thead>\n",
       "  <tbody>\n",
       "    <tr>\n",
       "      <td>64321</td>\n",
       "      <td>d1fkcdl</td>\n",
       "      <td>alleycatzzz</td>\n",
       "      <td>Liberal</td>\n",
       "      <td>4c716a</td>\n",
       "      <td>cmplxgal</td>\n",
       "      <td>Liberal</td>\n",
       "      <td>SandersForPresident</td>\n",
       "      <td>Has there been any counts as to what the absen...</td>\n",
       "      <td>True</td>\n",
       "      <td>0.1280</td>\n",
       "      <td>0.038</td>\n",
       "      <td>positive</td>\n",
       "      <td>LL</td>\n",
       "    </tr>\n",
       "    <tr>\n",
       "      <td>64323</td>\n",
       "      <td>d1fkcfd</td>\n",
       "      <td>mahakali_overdrive2</td>\n",
       "      <td>Liberal</td>\n",
       "      <td>d1fk7oy</td>\n",
       "      <td>Gummalillan</td>\n",
       "      <td>Liberal</td>\n",
       "      <td>SandersForPresident</td>\n",
       "      <td>If we don't act now, this could look like Ariz...</td>\n",
       "      <td>True</td>\n",
       "      <td>0.4411</td>\n",
       "      <td>0.028</td>\n",
       "      <td>positive</td>\n",
       "      <td>LL</td>\n",
       "    </tr>\n",
       "    <tr>\n",
       "      <td>64324</td>\n",
       "      <td>d1fkcg3</td>\n",
       "      <td>JustDoinThings</td>\n",
       "      <td>Conservative</td>\n",
       "      <td>4c6w6h</td>\n",
       "      <td>Lightfiend</td>\n",
       "      <td>Conservative</td>\n",
       "      <td>The_Donald</td>\n",
       "      <td>tbqh it is our fault for not preparing for the...</td>\n",
       "      <td>True</td>\n",
       "      <td>-0.2230</td>\n",
       "      <td>0.061</td>\n",
       "      <td>negative</td>\n",
       "      <td>CC</td>\n",
       "    </tr>\n",
       "    <tr>\n",
       "      <td>64325</td>\n",
       "      <td>d1fkcg5</td>\n",
       "      <td>mindcracked</td>\n",
       "      <td>Liberal</td>\n",
       "      <td>d1fjm7l</td>\n",
       "      <td>jc5504</td>\n",
       "      <td>Liberal</td>\n",
       "      <td>politics</td>\n",
       "      <td>&amp;gt; He has clear opinions on all the issues t...</td>\n",
       "      <td>True</td>\n",
       "      <td>0.5423</td>\n",
       "      <td>0.136</td>\n",
       "      <td>positive</td>\n",
       "      <td>LL</td>\n",
       "    </tr>\n",
       "    <tr>\n",
       "      <td>64327</td>\n",
       "      <td>d1fkcip</td>\n",
       "      <td>WideLight</td>\n",
       "      <td>Liberal</td>\n",
       "      <td>d1fjnix</td>\n",
       "      <td>mrninja101</td>\n",
       "      <td>Liberal</td>\n",
       "      <td>hillaryclinton</td>\n",
       "      <td>&amp;gt;The truth, in fact, lies in the middle gro...</td>\n",
       "      <td>True</td>\n",
       "      <td>-0.7343</td>\n",
       "      <td>0.244</td>\n",
       "      <td>negative</td>\n",
       "      <td>LL</td>\n",
       "    </tr>\n",
       "  </tbody>\n",
       "</table>\n",
       "</div>"
      ],
      "text/plain": [
       "            id           speaker_id speaker_label parent_id addressee_id  \\\n",
       "64321  d1fkcdl          alleycatzzz       Liberal    4c716a     cmplxgal   \n",
       "64323  d1fkcfd  mahakali_overdrive2       Liberal   d1fk7oy  Gummalillan   \n",
       "64324  d1fkcg3       JustDoinThings  Conservative    4c6w6h   Lightfiend   \n",
       "64325  d1fkcg5          mindcracked       Liberal   d1fjm7l       jc5504   \n",
       "64327  d1fkcip            WideLight       Liberal   d1fjnix   mrninja101   \n",
       "\n",
       "      addressee_label            subreddit  \\\n",
       "64321         Liberal  SandersForPresident   \n",
       "64323         Liberal  SandersForPresident   \n",
       "64324    Conservative           The_Donald   \n",
       "64325         Liberal             politics   \n",
       "64327         Liberal       hillaryclinton   \n",
       "\n",
       "                                                    text  is_comment  \\\n",
       "64321  Has there been any counts as to what the absen...        True   \n",
       "64323  If we don't act now, this could look like Ariz...        True   \n",
       "64324  tbqh it is our fault for not preparing for the...        True   \n",
       "64325  &gt; He has clear opinions on all the issues t...        True   \n",
       "64327  &gt;The truth, in fact, lies in the middle gro...        True   \n",
       "\n",
       "       compound_VADER  neg_VADER sentiment interlocutors  \n",
       "64321          0.1280      0.038  positive            LL  \n",
       "64323          0.4411      0.028  positive            LL  \n",
       "64324         -0.2230      0.061  negative            CC  \n",
       "64325          0.5423      0.136  positive            LL  \n",
       "64327         -0.7343      0.244  negative            LL  "
      ]
     },
     "execution_count": 10,
     "metadata": {},
     "output_type": "execute_result"
    }
   ],
   "source": [
    "def f(row):\n",
    "    if row['speaker_label'] == 'Liberal' and row['addressee_label'] == 'Conservative':\n",
    "        val = 'LC'\n",
    "        \n",
    "    elif row['speaker_label'] == 'Liberal' and row['addressee_label'] == 'Liberal':\n",
    "        val = 'LL'\n",
    "        \n",
    "    elif row['speaker_label'] == 'Conservative' and row['addressee_label'] == 'Liberal':\n",
    "        val = 'CL'\n",
    "        \n",
    "    elif row['speaker_label'] == 'Conservative' and row['addressee_label'] == 'Conservative':\n",
    "        val = 'CC'\n",
    "    else:\n",
    "        print(\"Text = \", row['text'])\n",
    "        val = -1000000\n",
    "    return val\n",
    "\n",
    "df['interlocutors'] = df.apply(f, axis=1)\n",
    "df.head()"
   ]
  },
  {
   "cell_type": "markdown",
   "metadata": {},
   "source": [
    "### 2. Both by Addressee & Speaker Label (2.9 million comments):"
   ]
  },
  {
   "cell_type": "code",
   "execution_count": 11,
   "metadata": {},
   "outputs": [
    {
     "data": {
      "text/plain": [
       "Text(0.5, 1.0, 'Sentiment distribution for Speaker-Addressee (2.9M)')"
      ]
     },
     "execution_count": 11,
     "metadata": {},
     "output_type": "execute_result"
    },
    {
     "data": {
      "image/png": "[encoded data removed]",
      "text/plain": [
       "<Figure size 432x288 with 1 Axes>"
      ]
     },
     "metadata": {
      "needs_background": "light"
     },
     "output_type": "display_data"
    }
   ],
   "source": [
    "p4 = sns.countplot(x=df['sentiment'], hue=df['interlocutors'], order=(\"negative\", \"neutral\", \"positive\"))\n",
    "p4.set_xlabel('VADER Sentiment Score')\n",
    "p4.set_ylabel('Count')\n",
    "p4.legend(title='Author Label', title_fontsize=12)\n",
    "p4.set_title('Sentiment distribution for Speaker-Addressee (2.9M)', fontsize=14)"
   ]
  },
  {
   "cell_type": "code",
   "execution_count": 12,
   "metadata": {},
   "outputs": [
    {
     "data": {
      "text/plain": [
       "Text(0.5, 1.0, 'Sentiment distribution for InGroup/OutGroup (2.9M)')"
      ]
     },
     "execution_count": 12,
     "metadata": {},
     "output_type": "execute_result"
    },
    {
     "data": {
      "image/png": "[encoded data removed]",
      "text/plain": [
       "<Figure size 432x288 with 1 Axes>"
      ]
     },
     "metadata": {
      "needs_background": "light"
     },
     "output_type": "display_data"
    }
   ],
   "source": [
    "p4 = sns.countplot(x=df['interlocutors'], hue=df['sentiment'], order=(\"LL\", \"CC\", \"LC\", \"CL\"))\n",
    "p4.set_xlabel('Interlocutor')\n",
    "p4.set_ylabel('Count')\n",
    "p4.legend(title='Sentiment', title_fontsize=12)\n",
    "p4.set_title('Sentiment distribution for InGroup/OutGroup (2.9M)', fontsize=14)"
   ]
  },
  {
   "cell_type": "markdown",
   "metadata": {},
   "source": [
    "### Only for OutGroup:"
   ]
  },
  {
   "cell_type": "code",
   "execution_count": 14,
   "metadata": {},
   "outputs": [
    {
     "data": {
      "text/plain": [
       "Text(0.5, 1.0, 'Sentiment distribution only for OutGroup (2.9M)')"
      ]
     },
     "execution_count": 14,
     "metadata": {},
     "output_type": "execute_result"
    },
    {
     "data": {
      "image/png": "[encoded data removed]",
      "text/plain": [
       "<Figure size 432x288 with 1 Axes>"
      ]
     },
     "metadata": {
      "needs_background": "light"
     },
     "output_type": "display_data"
    }
   ],
   "source": [
    "p4 = sns.countplot(x=df['interlocutors'], hue=df['sentiment'], order=(\"LC\", \"CL\"))\n",
    "p4.set_xlabel('Interlocutor')\n",
    "p4.set_ylabel('Count')\n",
    "p4.legend(title='Sentiment', title_fontsize=12)\n",
    "p4.set_title('Sentiment distribution only for OutGroup (2.9M)', fontsize=14)"
   ]
  },
  {
   "cell_type": "code",
   "execution_count": null,
   "metadata": {},
   "outputs": [],
   "source": []
  }
 ],
 "metadata": {
  "kernelspec": {
   "display_name": "Python 3",
   "language": "python",
   "name": "python3"
  },
  "language_info": {
   "codemirror_mode": {
    "name": "ipython",
    "version": 3
   },
   "file_extension": ".py",
   "mimetype": "text/x-python",
   "name": "python",
   "nbconvert_exporter": "python",
   "pygments_lexer": "ipython3",
   "version": "3.7.4"
  }
 },
 "nbformat": 4,
 "nbformat_minor": 2
}
