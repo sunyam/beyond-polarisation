{
 "cells": [
  {
   "cell_type": "markdown",
   "metadata": {},
   "source": [
    "## Aim: Visualise sentiment analysis and hate-lexicon."
   ]
  },
  {
   "cell_type": "code",
   "execution_count": 1,
   "metadata": {},
   "outputs": [],
   "source": [
    "import csv\n",
    "import pandas as pd\n",
    "import seaborn as sns\n",
    "import matplotlib.pyplot as plt\n",
    "%matplotlib inline"
   ]
  },
  {
   "cell_type": "code",
   "execution_count": 2,
   "metadata": {
    "scrolled": false
   },
   "outputs": [
    {
     "name": "stdout",
     "output_type": "stream",
     "text": [
      "915\n",
      "Initially:  (8124848, 12)\n",
      "After:  (8123933, 12)\n",
      "Liberal         4636518\n",
      "Conservative    3487415\n",
      "Name: speaker_label, dtype: int64\n"
     ]
    },
    {
     "data": {
      "text/html": [
       "<div>\n",
       "<style scoped>\n",
       "    .dataframe tbody tr th:only-of-type {\n",
       "        vertical-align: middle;\n",
       "    }\n",
       "\n",
       "    .dataframe tbody tr th {\n",
       "        vertical-align: top;\n",
       "    }\n",
       "\n",
       "    .dataframe thead th {\n",
       "        text-align: right;\n",
       "    }\n",
       "</style>\n",
       "<table border=\"1\" class=\"dataframe\">\n",
       "  <thead>\n",
       "    <tr style=\"text-align: right;\">\n",
       "      <th></th>\n",
       "      <th>id</th>\n",
       "      <th>speaker_id</th>\n",
       "      <th>speaker_label</th>\n",
       "      <th>parent_id</th>\n",
       "      <th>addressee_id</th>\n",
       "      <th>addressee_label</th>\n",
       "      <th>subreddit</th>\n",
       "      <th>text</th>\n",
       "      <th>is_comment</th>\n",
       "      <th>hate_count</th>\n",
       "      <th>compound_VADER</th>\n",
       "      <th>neg_VADER</th>\n",
       "    </tr>\n",
       "  </thead>\n",
       "  <tbody>\n",
       "    <tr>\n",
       "      <td>0</td>\n",
       "      <td>43lpuz</td>\n",
       "      <td>moving-target</td>\n",
       "      <td>Liberal</td>\n",
       "      <td>NaN</td>\n",
       "      <td>NaN</td>\n",
       "      <td>NaN</td>\n",
       "      <td>SandersForPresident</td>\n",
       "      <td>Oh man msnbc is just full on making shit up an...</td>\n",
       "      <td>False</td>\n",
       "      <td>1.0</td>\n",
       "      <td>-0.5574</td>\n",
       "      <td>0.205</td>\n",
       "    </tr>\n",
       "    <tr>\n",
       "      <td>1</td>\n",
       "      <td>43lpwo</td>\n",
       "      <td>TaylorSwift2014</td>\n",
       "      <td>Liberal</td>\n",
       "      <td>NaN</td>\n",
       "      <td>NaN</td>\n",
       "      <td>NaN</td>\n",
       "      <td>SandersForPresident</td>\n",
       "      <td>Where online will I be able to view results as...</td>\n",
       "      <td>False</td>\n",
       "      <td>0.0</td>\n",
       "      <td>0.0000</td>\n",
       "      <td>0.000</td>\n",
       "    </tr>\n",
       "    <tr>\n",
       "      <td>2</td>\n",
       "      <td>43lq2k</td>\n",
       "      <td>writingtoss</td>\n",
       "      <td>Liberal</td>\n",
       "      <td>NaN</td>\n",
       "      <td>NaN</td>\n",
       "      <td>NaN</td>\n",
       "      <td>SandersForPresident</td>\n",
       "      <td>On Iowa; or, On, Iowa!</td>\n",
       "      <td>False</td>\n",
       "      <td>0.0</td>\n",
       "      <td>0.0000</td>\n",
       "      <td>0.000</td>\n",
       "    </tr>\n",
       "  </tbody>\n",
       "</table>\n",
       "</div>"
      ],
      "text/plain": [
       "       id       speaker_id speaker_label parent_id addressee_id  \\\n",
       "0  43lpuz    moving-target       Liberal       NaN          NaN   \n",
       "1  43lpwo  TaylorSwift2014       Liberal       NaN          NaN   \n",
       "2  43lq2k      writingtoss       Liberal       NaN          NaN   \n",
       "\n",
       "  addressee_label            subreddit  \\\n",
       "0             NaN  SandersForPresident   \n",
       "1             NaN  SandersForPresident   \n",
       "2             NaN  SandersForPresident   \n",
       "\n",
       "                                                text  is_comment  hate_count  \\\n",
       "0  Oh man msnbc is just full on making shit up an...       False         1.0   \n",
       "1  Where online will I be able to view results as...       False         0.0   \n",
       "2                             On Iowa; or, On, Iowa!       False         0.0   \n",
       "\n",
       "   compound_VADER  neg_VADER  \n",
       "0         -0.5574      0.205  \n",
       "1          0.0000      0.000  \n",
       "2          0.0000      0.000  "
      ]
     },
     "execution_count": 2,
     "metadata": {},
     "output_type": "execute_result"
    }
   ],
   "source": [
    "df = pd.read_csv('../data/dataset_with_sent_hate.tsv', delimiter='\\t', lineterminator='\\n')\n",
    "\n",
    "# Load Skipped IDs (text = NaN)\n",
    "with open('./src/skipped_ids.csv', 'r') as file:\n",
    "    reader = csv.reader(file)\n",
    "    for row in reader:\n",
    "        skipped_ids = row\n",
    "        \n",
    "print(len(skipped_ids))\n",
    "\n",
    "# Remove empty text rows:\n",
    "print(\"Initially: \", df.shape)\n",
    "df = df.loc[~df['id'].isin(skipped_ids)]\n",
    "print(\"After: \", df.shape)\n",
    "\n",
    "print(df['speaker_label'].value_counts())\n",
    "df.head(3)"
   ]
  },
  {
   "cell_type": "markdown",
   "metadata": {},
   "source": [
    "# Plots for Sentiment Analysis:"
   ]
  },
  {
   "cell_type": "code",
   "execution_count": 3,
   "metadata": {},
   "outputs": [
    {
     "data": {
      "text/plain": [
       "Text(0.5, 1.0, \"Distribution of VADER's compound score (8.1M)\")"
      ]
     },
     "execution_count": 3,
     "metadata": {},
     "output_type": "execute_result"
    },
    {
     "data": {
      "image/png": "[encoded data removed]",
      "text/plain": [
       "<Figure size 432x288 with 1 Axes>"
      ]
     },
     "metadata": {
      "needs_background": "light"
     },
     "output_type": "display_data"
    }
   ],
   "source": [
    "plt.hist(df['compound_VADER'].tolist(), bins=25)\n",
    "plt.ylabel('Number of Comments')\n",
    "plt.xlabel('Sentiment Score')\n",
    "plt.title(\"Distribution of VADER's compound score (8.1M)\")"
   ]
  },
  {
   "cell_type": "code",
   "execution_count": 4,
   "metadata": {},
   "outputs": [
    {
     "data": {
      "text/plain": [
       "Text(0.5, 1.0, \"Distribution of VADER's neg score (8.1M)\")"
      ]
     },
     "execution_count": 4,
     "metadata": {},
     "output_type": "execute_result"
    },
    {
     "data": {
      "image/png": "[encoded data removed]",
      "text/plain": [
       "<Figure size 432x288 with 1 Axes>"
      ]
     },
     "metadata": {
      "needs_background": "light"
     },
     "output_type": "display_data"
    }
   ],
   "source": [
    "plt.hist(df['neg_VADER'].tolist(), bins=25)\n",
    "plt.ylabel('Number of Comments')\n",
    "plt.xlabel('Negative Score')\n",
    "plt.title(\"Distribution of VADER's neg score (8.1M)\")"
   ]
  },
  {
   "cell_type": "markdown",
   "metadata": {},
   "source": [
    "#### Using the recommended <a href='https://github.com/cjhutto/vaderSentiment#about-the-scoring'>standardized threshold scores</a> for binning into positive, negative, & neutral:"
   ]
  },
  {
   "cell_type": "code",
   "execution_count": 5,
   "metadata": {},
   "outputs": [
    {
     "data": {
      "text/html": [
       "<div>\n",
       "<style scoped>\n",
       "    .dataframe tbody tr th:only-of-type {\n",
       "        vertical-align: middle;\n",
       "    }\n",
       "\n",
       "    .dataframe tbody tr th {\n",
       "        vertical-align: top;\n",
       "    }\n",
       "\n",
       "    .dataframe thead th {\n",
       "        text-align: right;\n",
       "    }\n",
       "</style>\n",
       "<table border=\"1\" class=\"dataframe\">\n",
       "  <thead>\n",
       "    <tr style=\"text-align: right;\">\n",
       "      <th></th>\n",
       "      <th>id</th>\n",
       "      <th>speaker_id</th>\n",
       "      <th>speaker_label</th>\n",
       "      <th>parent_id</th>\n",
       "      <th>addressee_id</th>\n",
       "      <th>addressee_label</th>\n",
       "      <th>subreddit</th>\n",
       "      <th>text</th>\n",
       "      <th>is_comment</th>\n",
       "      <th>hate_count</th>\n",
       "      <th>compound_VADER</th>\n",
       "      <th>neg_VADER</th>\n",
       "      <th>sentiment</th>\n",
       "    </tr>\n",
       "  </thead>\n",
       "  <tbody>\n",
       "    <tr>\n",
       "      <td>0</td>\n",
       "      <td>43lpuz</td>\n",
       "      <td>moving-target</td>\n",
       "      <td>Liberal</td>\n",
       "      <td>NaN</td>\n",
       "      <td>NaN</td>\n",
       "      <td>NaN</td>\n",
       "      <td>SandersForPresident</td>\n",
       "      <td>Oh man msnbc is just full on making shit up an...</td>\n",
       "      <td>False</td>\n",
       "      <td>1.0</td>\n",
       "      <td>-0.5574</td>\n",
       "      <td>0.205</td>\n",
       "      <td>negative</td>\n",
       "    </tr>\n",
       "    <tr>\n",
       "      <td>1</td>\n",
       "      <td>43lpwo</td>\n",
       "      <td>TaylorSwift2014</td>\n",
       "      <td>Liberal</td>\n",
       "      <td>NaN</td>\n",
       "      <td>NaN</td>\n",
       "      <td>NaN</td>\n",
       "      <td>SandersForPresident</td>\n",
       "      <td>Where online will I be able to view results as...</td>\n",
       "      <td>False</td>\n",
       "      <td>0.0</td>\n",
       "      <td>0.0000</td>\n",
       "      <td>0.000</td>\n",
       "      <td>neutral</td>\n",
       "    </tr>\n",
       "    <tr>\n",
       "      <td>2</td>\n",
       "      <td>43lq2k</td>\n",
       "      <td>writingtoss</td>\n",
       "      <td>Liberal</td>\n",
       "      <td>NaN</td>\n",
       "      <td>NaN</td>\n",
       "      <td>NaN</td>\n",
       "      <td>SandersForPresident</td>\n",
       "      <td>On Iowa; or, On, Iowa!</td>\n",
       "      <td>False</td>\n",
       "      <td>0.0</td>\n",
       "      <td>0.0000</td>\n",
       "      <td>0.000</td>\n",
       "      <td>neutral</td>\n",
       "    </tr>\n",
       "  </tbody>\n",
       "</table>\n",
       "</div>"
      ],
      "text/plain": [
       "       id       speaker_id speaker_label parent_id addressee_id  \\\n",
       "0  43lpuz    moving-target       Liberal       NaN          NaN   \n",
       "1  43lpwo  TaylorSwift2014       Liberal       NaN          NaN   \n",
       "2  43lq2k      writingtoss       Liberal       NaN          NaN   \n",
       "\n",
       "  addressee_label            subreddit  \\\n",
       "0             NaN  SandersForPresident   \n",
       "1             NaN  SandersForPresident   \n",
       "2             NaN  SandersForPresident   \n",
       "\n",
       "                                                text  is_comment  hate_count  \\\n",
       "0  Oh man msnbc is just full on making shit up an...       False         1.0   \n",
       "1  Where online will I be able to view results as...       False         0.0   \n",
       "2                             On Iowa; or, On, Iowa!       False         0.0   \n",
       "\n",
       "   compound_VADER  neg_VADER sentiment  \n",
       "0         -0.5574      0.205  negative  \n",
       "1          0.0000      0.000   neutral  \n",
       "2          0.0000      0.000   neutral  "
      ]
     },
     "execution_count": 5,
     "metadata": {},
     "output_type": "execute_result"
    }
   ],
   "source": [
    "def f(row):\n",
    "    if row['compound_VADER'] >= 0.05:\n",
    "        val = 'positive'\n",
    "    elif row['compound_VADER'] <= -0.05:\n",
    "        val = 'negative'\n",
    "    elif row['compound_VADER'] > -0.05 and row['compound_VADER'] < 0.05:\n",
    "        val = 'neutral'\n",
    "    else:\n",
    "        print(\"Why! Text = \", row['text'], \"Senti-score = \", row['compound_VADER'])\n",
    "        val = -1000000\n",
    "    return val\n",
    "\n",
    "df['sentiment'] = df.apply(f, axis=1)\n",
    "df.head(3)"
   ]
  },
  {
   "cell_type": "markdown",
   "metadata": {},
   "source": [
    "#### 1) Only by Speaker Label (8.1 million comments):"
   ]
  },
  {
   "cell_type": "code",
   "execution_count": 6,
   "metadata": {},
   "outputs": [
    {
     "data": {
      "text/plain": [
       "Text(0.5, 1.0, 'Sentiment distrbution by Speaker Label (8.1M)')"
      ]
     },
     "execution_count": 6,
     "metadata": {},
     "output_type": "execute_result"
    },
    {
     "data": {
      "image/png": "[encoded data removed]",
      "text/plain": [
       "<Figure size 432x288 with 1 Axes>"
      ]
     },
     "metadata": {
      "needs_background": "light"
     },
     "output_type": "display_data"
    }
   ],
   "source": [
    "p4 = sns.countplot(x=df['sentiment'], hue=df['speaker_label'], order=(\"negative\", \"neutral\", \"positive\"))\n",
    "p4.set_xlabel('VADER Sentiment Score')\n",
    "p4.set_ylabel('Count')\n",
    "p4.legend(title='Author Label', title_fontsize=12)\n",
    "p4.set_title('Sentiment distrbution by Speaker Label (8.1M)', fontsize=14)"
   ]
  },
  {
   "cell_type": "code",
   "execution_count": 7,
   "metadata": {},
   "outputs": [
    {
     "name": "stdout",
     "output_type": "stream",
     "text": [
      "(2907737, 13)\n"
     ]
    },
    {
     "data": {
      "text/html": [
       "<div>\n",
       "<style scoped>\n",
       "    .dataframe tbody tr th:only-of-type {\n",
       "        vertical-align: middle;\n",
       "    }\n",
       "\n",
       "    .dataframe tbody tr th {\n",
       "        vertical-align: top;\n",
       "    }\n",
       "\n",
       "    .dataframe thead th {\n",
       "        text-align: right;\n",
       "    }\n",
       "</style>\n",
       "<table border=\"1\" class=\"dataframe\">\n",
       "  <thead>\n",
       "    <tr style=\"text-align: right;\">\n",
       "      <th></th>\n",
       "      <th>id</th>\n",
       "      <th>speaker_id</th>\n",
       "      <th>speaker_label</th>\n",
       "      <th>parent_id</th>\n",
       "      <th>addressee_id</th>\n",
       "      <th>addressee_label</th>\n",
       "      <th>subreddit</th>\n",
       "      <th>text</th>\n",
       "      <th>is_comment</th>\n",
       "      <th>hate_count</th>\n",
       "      <th>compound_VADER</th>\n",
       "      <th>neg_VADER</th>\n",
       "      <th>sentiment</th>\n",
       "      <th>interlocutors</th>\n",
       "    </tr>\n",
       "  </thead>\n",
       "  <tbody>\n",
       "    <tr>\n",
       "      <td>64321</td>\n",
       "      <td>d1fkcdl</td>\n",
       "      <td>alleycatzzz</td>\n",
       "      <td>Liberal</td>\n",
       "      <td>4c716a</td>\n",
       "      <td>cmplxgal</td>\n",
       "      <td>Liberal</td>\n",
       "      <td>SandersForPresident</td>\n",
       "      <td>Has there been any counts as to what the absen...</td>\n",
       "      <td>True</td>\n",
       "      <td>0.0</td>\n",
       "      <td>0.1280</td>\n",
       "      <td>0.038</td>\n",
       "      <td>positive</td>\n",
       "      <td>LL</td>\n",
       "    </tr>\n",
       "    <tr>\n",
       "      <td>64323</td>\n",
       "      <td>d1fkcfd</td>\n",
       "      <td>mahakali_overdrive2</td>\n",
       "      <td>Liberal</td>\n",
       "      <td>d1fk7oy</td>\n",
       "      <td>Gummalillan</td>\n",
       "      <td>Liberal</td>\n",
       "      <td>SandersForPresident</td>\n",
       "      <td>If we don't act now, this could look like Ariz...</td>\n",
       "      <td>True</td>\n",
       "      <td>0.0</td>\n",
       "      <td>0.4411</td>\n",
       "      <td>0.028</td>\n",
       "      <td>positive</td>\n",
       "      <td>LL</td>\n",
       "    </tr>\n",
       "    <tr>\n",
       "      <td>64324</td>\n",
       "      <td>d1fkcg3</td>\n",
       "      <td>JustDoinThings</td>\n",
       "      <td>Conservative</td>\n",
       "      <td>4c6w6h</td>\n",
       "      <td>Lightfiend</td>\n",
       "      <td>Conservative</td>\n",
       "      <td>The_Donald</td>\n",
       "      <td>tbqh it is our fault for not preparing for the...</td>\n",
       "      <td>True</td>\n",
       "      <td>0.0</td>\n",
       "      <td>-0.2230</td>\n",
       "      <td>0.061</td>\n",
       "      <td>negative</td>\n",
       "      <td>CC</td>\n",
       "    </tr>\n",
       "  </tbody>\n",
       "</table>\n",
       "</div>"
      ],
      "text/plain": [
       "            id           speaker_id speaker_label parent_id addressee_id  \\\n",
       "64321  d1fkcdl          alleycatzzz       Liberal    4c716a     cmplxgal   \n",
       "64323  d1fkcfd  mahakali_overdrive2       Liberal   d1fk7oy  Gummalillan   \n",
       "64324  d1fkcg3       JustDoinThings  Conservative    4c6w6h   Lightfiend   \n",
       "\n",
       "      addressee_label            subreddit  \\\n",
       "64321         Liberal  SandersForPresident   \n",
       "64323         Liberal  SandersForPresident   \n",
       "64324    Conservative           The_Donald   \n",
       "\n",
       "                                                    text  is_comment  \\\n",
       "64321  Has there been any counts as to what the absen...        True   \n",
       "64323  If we don't act now, this could look like Ariz...        True   \n",
       "64324  tbqh it is our fault for not preparing for the...        True   \n",
       "\n",
       "       hate_count  compound_VADER  neg_VADER sentiment interlocutors  \n",
       "64321         0.0          0.1280      0.038  positive            LL  \n",
       "64323         0.0          0.4411      0.028  positive            LL  \n",
       "64324         0.0         -0.2230      0.061  negative            CC  "
      ]
     },
     "execution_count": 7,
     "metadata": {},
     "output_type": "execute_result"
    }
   ],
   "source": [
    "# Remove comments corresponding to unknown addressee(s):\n",
    "df = df[df['addressee_label'].notna()]\n",
    "print(df.shape)\n",
    "\n",
    "def f(row):\n",
    "    if row['speaker_label'] == 'Liberal' and row['addressee_label'] == 'Conservative':\n",
    "        val = 'LC'\n",
    "        \n",
    "    elif row['speaker_label'] == 'Liberal' and row['addressee_label'] == 'Liberal':\n",
    "        val = 'LL'\n",
    "        \n",
    "    elif row['speaker_label'] == 'Conservative' and row['addressee_label'] == 'Liberal':\n",
    "        val = 'CL'\n",
    "        \n",
    "    elif row['speaker_label'] == 'Conservative' and row['addressee_label'] == 'Conservative':\n",
    "        val = 'CC'\n",
    "    else:\n",
    "        print(\"Text = \", row['text'])\n",
    "        val = -1000000\n",
    "    return val\n",
    "\n",
    "df['interlocutors'] = df.apply(f, axis=1)\n",
    "df.head(3)"
   ]
  },
  {
   "cell_type": "markdown",
   "metadata": {},
   "source": [
    "#### 2) Both by Addressee & Speaker Label (2.9 million comments):"
   ]
  },
  {
   "cell_type": "code",
   "execution_count": 8,
   "metadata": {},
   "outputs": [
    {
     "data": {
      "text/plain": [
       "Text(0.5, 1.0, 'Sentiment distribution for Speaker-Addressee (2.9M)')"
      ]
     },
     "execution_count": 8,
     "metadata": {},
     "output_type": "execute_result"
    },
    {
     "data": {
      "image/png": "[encoded data removed]",
      "text/plain": [
       "<Figure size 432x288 with 1 Axes>"
      ]
     },
     "metadata": {
      "needs_background": "light"
     },
     "output_type": "display_data"
    }
   ],
   "source": [
    "p4 = sns.countplot(x=df['sentiment'], hue=df['interlocutors'], order=(\"negative\", \"neutral\", \"positive\"))\n",
    "p4.set_xlabel('VADER Sentiment Score')\n",
    "p4.set_ylabel('Count')\n",
    "p4.legend(title='Author Label', title_fontsize=12)\n",
    "p4.set_title('Sentiment distribution for Speaker-Addressee (2.9M)', fontsize=14)"
   ]
  },
  {
   "cell_type": "code",
   "execution_count": 9,
   "metadata": {},
   "outputs": [
    {
     "data": {
      "text/plain": [
       "Text(0.5, 1.0, 'Sentiment distribution for InGroup/OutGroup (2.9M)')"
      ]
     },
     "execution_count": 9,
     "metadata": {},
     "output_type": "execute_result"
    },
    {
     "data": {
      "image/png": "[encoded data removed]",
      "text/plain": [
       "<Figure size 432x288 with 1 Axes>"
      ]
     },
     "metadata": {
      "needs_background": "light"
     },
     "output_type": "display_data"
    }
   ],
   "source": [
    "p4 = sns.countplot(x=df['interlocutors'], hue=df['sentiment'], order=(\"LL\", \"CC\", \"LC\", \"CL\"))\n",
    "p4.set_xlabel('Interlocutor')\n",
    "p4.set_ylabel('Count')\n",
    "p4.legend(title='Sentiment', title_fontsize=12)\n",
    "p4.set_title('Sentiment distribution for InGroup/OutGroup (2.9M)', fontsize=14)"
   ]
  },
  {
   "cell_type": "markdown",
   "metadata": {},
   "source": [
    "##### Zoom-in for OutGroup:"
   ]
  },
  {
   "cell_type": "code",
   "execution_count": 10,
   "metadata": {},
   "outputs": [
    {
     "data": {
      "text/plain": [
       "Text(0.5, 1.0, 'Sentiment distribution only for OutGroup (2.9M)')"
      ]
     },
     "execution_count": 10,
     "metadata": {},
     "output_type": "execute_result"
    },
    {
     "data": {
      "image/png": "[encoded data removed]",
      "text/plain": [
       "<Figure size 432x288 with 1 Axes>"
      ]
     },
     "metadata": {
      "needs_background": "light"
     },
     "output_type": "display_data"
    }
   ],
   "source": [
    "p4 = sns.countplot(x=df['interlocutors'], hue=df['sentiment'], order=(\"LC\", \"CL\"))\n",
    "p4.set_xlabel('Interlocutor')\n",
    "p4.set_ylabel('Count')\n",
    "p4.legend(title='Sentiment', title_fontsize=12)\n",
    "p4.set_title('Sentiment distribution only for OutGroup (2.9M)', fontsize=14)"
   ]
  },
  {
   "cell_type": "markdown",
   "metadata": {},
   "source": [
    "# Plots for Hate Count:"
   ]
  },
  {
   "cell_type": "code",
   "execution_count": 3,
   "metadata": {},
   "outputs": [
    {
     "data": {
      "text/html": [
       "<div>\n",
       "<style scoped>\n",
       "    .dataframe tbody tr th:only-of-type {\n",
       "        vertical-align: middle;\n",
       "    }\n",
       "\n",
       "    .dataframe tbody tr th {\n",
       "        vertical-align: top;\n",
       "    }\n",
       "\n",
       "    .dataframe thead th {\n",
       "        text-align: right;\n",
       "    }\n",
       "</style>\n",
       "<table border=\"1\" class=\"dataframe\">\n",
       "  <thead>\n",
       "    <tr style=\"text-align: right;\">\n",
       "      <th></th>\n",
       "      <th>id</th>\n",
       "      <th>speaker_id</th>\n",
       "      <th>speaker_label</th>\n",
       "      <th>parent_id</th>\n",
       "      <th>addressee_id</th>\n",
       "      <th>addressee_label</th>\n",
       "      <th>subreddit</th>\n",
       "      <th>text</th>\n",
       "      <th>is_comment</th>\n",
       "      <th>hate_count</th>\n",
       "      <th>compound_VADER</th>\n",
       "      <th>neg_VADER</th>\n",
       "      <th>hate_presence</th>\n",
       "    </tr>\n",
       "  </thead>\n",
       "  <tbody>\n",
       "    <tr>\n",
       "      <td>0</td>\n",
       "      <td>43lpuz</td>\n",
       "      <td>moving-target</td>\n",
       "      <td>Liberal</td>\n",
       "      <td>NaN</td>\n",
       "      <td>NaN</td>\n",
       "      <td>NaN</td>\n",
       "      <td>SandersForPresident</td>\n",
       "      <td>Oh man msnbc is just full on making shit up an...</td>\n",
       "      <td>False</td>\n",
       "      <td>1.0</td>\n",
       "      <td>-0.5574</td>\n",
       "      <td>0.205</td>\n",
       "      <td>Present</td>\n",
       "    </tr>\n",
       "    <tr>\n",
       "      <td>1</td>\n",
       "      <td>43lpwo</td>\n",
       "      <td>TaylorSwift2014</td>\n",
       "      <td>Liberal</td>\n",
       "      <td>NaN</td>\n",
       "      <td>NaN</td>\n",
       "      <td>NaN</td>\n",
       "      <td>SandersForPresident</td>\n",
       "      <td>Where online will I be able to view results as...</td>\n",
       "      <td>False</td>\n",
       "      <td>0.0</td>\n",
       "      <td>0.0000</td>\n",
       "      <td>0.000</td>\n",
       "      <td>Absent</td>\n",
       "    </tr>\n",
       "    <tr>\n",
       "      <td>2</td>\n",
       "      <td>43lq2k</td>\n",
       "      <td>writingtoss</td>\n",
       "      <td>Liberal</td>\n",
       "      <td>NaN</td>\n",
       "      <td>NaN</td>\n",
       "      <td>NaN</td>\n",
       "      <td>SandersForPresident</td>\n",
       "      <td>On Iowa; or, On, Iowa!</td>\n",
       "      <td>False</td>\n",
       "      <td>0.0</td>\n",
       "      <td>0.0000</td>\n",
       "      <td>0.000</td>\n",
       "      <td>Absent</td>\n",
       "    </tr>\n",
       "  </tbody>\n",
       "</table>\n",
       "</div>"
      ],
      "text/plain": [
       "       id       speaker_id speaker_label parent_id addressee_id  \\\n",
       "0  43lpuz    moving-target       Liberal       NaN          NaN   \n",
       "1  43lpwo  TaylorSwift2014       Liberal       NaN          NaN   \n",
       "2  43lq2k      writingtoss       Liberal       NaN          NaN   \n",
       "\n",
       "  addressee_label            subreddit  \\\n",
       "0             NaN  SandersForPresident   \n",
       "1             NaN  SandersForPresident   \n",
       "2             NaN  SandersForPresident   \n",
       "\n",
       "                                                text  is_comment  hate_count  \\\n",
       "0  Oh man msnbc is just full on making shit up an...       False         1.0   \n",
       "1  Where online will I be able to view results as...       False         0.0   \n",
       "2                             On Iowa; or, On, Iowa!       False         0.0   \n",
       "\n",
       "   compound_VADER  neg_VADER hate_presence  \n",
       "0         -0.5574      0.205       Present  \n",
       "1          0.0000      0.000        Absent  \n",
       "2          0.0000      0.000        Absent  "
      ]
     },
     "execution_count": 3,
     "metadata": {},
     "output_type": "execute_result"
    }
   ],
   "source": [
    "def f(row):\n",
    "    if row['hate_count'] > 0.0:\n",
    "        val = 'Present'\n",
    "\n",
    "    elif row['hate_count'] == 0.0:\n",
    "        val = 'Absent'\n",
    "        \n",
    "    else:\n",
    "        print(\"Text = \", row['text'])\n",
    "        val = -1000000\n",
    "    return val\n",
    "\n",
    "df['hate_presence'] = df.apply(f, axis=1)\n",
    "df.head(3)"
   ]
  },
  {
   "cell_type": "code",
   "execution_count": 4,
   "metadata": {},
   "outputs": [
    {
     "name": "stdout",
     "output_type": "stream",
     "text": [
      "0.0      7103212\n",
      "1.0       795679\n",
      "2.0       154664\n",
      "3.0        41399\n",
      "4.0        14715\n",
      "          ...   \n",
      "50.0           1\n",
      "49.0           1\n",
      "704.0          1\n",
      "480.0          1\n",
      "38.0           1\n",
      "Name: hate_count, Length: 73, dtype: int64\n",
      "Absent     7103212\n",
      "Present    1020721\n",
      "Name: hate_presence, dtype: int64\n"
     ]
    }
   ],
   "source": [
    "print(df['hate_count'].value_counts())\n",
    "print(df['hate_presence'].value_counts())"
   ]
  },
  {
   "cell_type": "code",
   "execution_count": 5,
   "metadata": {},
   "outputs": [
    {
     "data": {
      "text/html": [
       "<div>\n",
       "<style scoped>\n",
       "    .dataframe tbody tr th:only-of-type {\n",
       "        vertical-align: middle;\n",
       "    }\n",
       "\n",
       "    .dataframe tbody tr th {\n",
       "        vertical-align: top;\n",
       "    }\n",
       "\n",
       "    .dataframe thead th {\n",
       "        text-align: right;\n",
       "    }\n",
       "</style>\n",
       "<table border=\"1\" class=\"dataframe\">\n",
       "  <thead>\n",
       "    <tr style=\"text-align: right;\">\n",
       "      <th></th>\n",
       "      <th>id</th>\n",
       "      <th>speaker_id</th>\n",
       "      <th>speaker_label</th>\n",
       "      <th>parent_id</th>\n",
       "      <th>addressee_id</th>\n",
       "      <th>addressee_label</th>\n",
       "      <th>subreddit</th>\n",
       "      <th>text</th>\n",
       "      <th>is_comment</th>\n",
       "      <th>hate_count</th>\n",
       "      <th>compound_VADER</th>\n",
       "      <th>neg_VADER</th>\n",
       "      <th>hate_presence</th>\n",
       "    </tr>\n",
       "  </thead>\n",
       "  <tbody>\n",
       "    <tr>\n",
       "      <td>2021480</td>\n",
       "      <td>d0rjm1c</td>\n",
       "      <td>ShadowBannned</td>\n",
       "      <td>Conservative</td>\n",
       "      <td>NaN</td>\n",
       "      <td>NaN</td>\n",
       "      <td>NaN</td>\n",
       "      <td>4chan</td>\n",
       "      <td>cuck faggot cuck faggot cuck faggot cuck faggo...</td>\n",
       "      <td>True</td>\n",
       "      <td>572.0</td>\n",
       "      <td>-1.0</td>\n",
       "      <td>0.815</td>\n",
       "      <td>Present</td>\n",
       "    </tr>\n",
       "    <tr>\n",
       "      <td>2021887</td>\n",
       "      <td>d0rjzly</td>\n",
       "      <td>ShadowBannned</td>\n",
       "      <td>Conservative</td>\n",
       "      <td>NaN</td>\n",
       "      <td>NaN</td>\n",
       "      <td>NaN</td>\n",
       "      <td>4chan</td>\n",
       "      <td>yes, actually. it's 1000 characters.\\n\\ncuck f...</td>\n",
       "      <td>True</td>\n",
       "      <td>572.0</td>\n",
       "      <td>-1.0</td>\n",
       "      <td>0.813</td>\n",
       "      <td>Present</td>\n",
       "    </tr>\n",
       "    <tr>\n",
       "      <td>5035853</td>\n",
       "      <td>d23d7w5</td>\n",
       "      <td>Isaac923</td>\n",
       "      <td>Conservative</td>\n",
       "      <td>NaN</td>\n",
       "      <td>NaN</td>\n",
       "      <td>NaN</td>\n",
       "      <td>The_Donald</td>\n",
       "      <td>\\nFinland Balls Finland Balls Finland Balls Fi...</td>\n",
       "      <td>True</td>\n",
       "      <td>704.0</td>\n",
       "      <td>0.0</td>\n",
       "      <td>0.000</td>\n",
       "      <td>Present</td>\n",
       "    </tr>\n",
       "  </tbody>\n",
       "</table>\n",
       "</div>"
      ],
      "text/plain": [
       "              id     speaker_id speaker_label parent_id addressee_id  \\\n",
       "2021480  d0rjm1c  ShadowBannned  Conservative       NaN          NaN   \n",
       "2021887  d0rjzly  ShadowBannned  Conservative       NaN          NaN   \n",
       "5035853  d23d7w5       Isaac923  Conservative       NaN          NaN   \n",
       "\n",
       "        addressee_label   subreddit  \\\n",
       "2021480             NaN       4chan   \n",
       "2021887             NaN       4chan   \n",
       "5035853             NaN  The_Donald   \n",
       "\n",
       "                                                      text  is_comment  \\\n",
       "2021480  cuck faggot cuck faggot cuck faggot cuck faggo...        True   \n",
       "2021887  yes, actually. it's 1000 characters.\\n\\ncuck f...        True   \n",
       "5035853  \\nFinland Balls Finland Balls Finland Balls Fi...        True   \n",
       "\n",
       "         hate_count  compound_VADER  neg_VADER hate_presence  \n",
       "2021480       572.0            -1.0      0.815       Present  \n",
       "2021887       572.0            -1.0      0.813       Present  \n",
       "5035853       704.0             0.0      0.000       Present  "
      ]
     },
     "execution_count": 5,
     "metadata": {},
     "output_type": "execute_result"
    }
   ],
   "source": [
    "df.loc[df['hate_count']>500]"
   ]
  },
  {
   "cell_type": "code",
   "execution_count": 6,
   "metadata": {},
   "outputs": [
    {
     "data": {
      "text/plain": [
       "Text(0.5, 1.0, 'Hate-word-usage distrbution by Speaker Label (8.1M)')"
      ]
     },
     "execution_count": 6,
     "metadata": {},
     "output_type": "execute_result"
    },
    {
     "data": {
      "image/png": "[encoded data removed]",
      "text/plain": [
       "<Figure size 432x288 with 1 Axes>"
      ]
     },
     "metadata": {
      "needs_background": "light"
     },
     "output_type": "display_data"
    }
   ],
   "source": [
    "p4 = sns.countplot(x=df['hate_presence'], hue=df['speaker_label'])\n",
    "p4.set_xlabel('Hate-word Presence')\n",
    "p4.set_ylabel('Count')\n",
    "p4.legend(title='Author Label', title_fontsize=12)\n",
    "p4.set_title('Hate-word-usage distrbution by Speaker Label (8.1M)', fontsize=14)"
   ]
  },
  {
   "cell_type": "code",
   "execution_count": 7,
   "metadata": {},
   "outputs": [
    {
     "name": "stdout",
     "output_type": "stream",
     "text": [
      "(2907737, 13)\n"
     ]
    },
    {
     "name": "stderr",
     "output_type": "stream",
     "text": [
      "/opt/anaconda3/lib/python3.7/site-packages/ipykernel_launcher.py:22: SettingWithCopyWarning: \n",
      "A value is trying to be set on a copy of a slice from a DataFrame.\n",
      "Try using .loc[row_indexer,col_indexer] = value instead\n",
      "\n",
      "See the caveats in the documentation: http://pandas.pydata.org/pandas-docs/stable/user_guide/indexing.html#returning-a-view-versus-a-copy\n"
     ]
    },
    {
     "data": {
      "text/html": [
       "<div>\n",
       "<style scoped>\n",
       "    .dataframe tbody tr th:only-of-type {\n",
       "        vertical-align: middle;\n",
       "    }\n",
       "\n",
       "    .dataframe tbody tr th {\n",
       "        vertical-align: top;\n",
       "    }\n",
       "\n",
       "    .dataframe thead th {\n",
       "        text-align: right;\n",
       "    }\n",
       "</style>\n",
       "<table border=\"1\" class=\"dataframe\">\n",
       "  <thead>\n",
       "    <tr style=\"text-align: right;\">\n",
       "      <th></th>\n",
       "      <th>id</th>\n",
       "      <th>speaker_id</th>\n",
       "      <th>speaker_label</th>\n",
       "      <th>parent_id</th>\n",
       "      <th>addressee_id</th>\n",
       "      <th>addressee_label</th>\n",
       "      <th>subreddit</th>\n",
       "      <th>text</th>\n",
       "      <th>is_comment</th>\n",
       "      <th>hate_count</th>\n",
       "      <th>compound_VADER</th>\n",
       "      <th>neg_VADER</th>\n",
       "      <th>hate_presence</th>\n",
       "      <th>interlocutors</th>\n",
       "    </tr>\n",
       "  </thead>\n",
       "  <tbody>\n",
       "    <tr>\n",
       "      <td>64321</td>\n",
       "      <td>d1fkcdl</td>\n",
       "      <td>alleycatzzz</td>\n",
       "      <td>Liberal</td>\n",
       "      <td>4c716a</td>\n",
       "      <td>cmplxgal</td>\n",
       "      <td>Liberal</td>\n",
       "      <td>SandersForPresident</td>\n",
       "      <td>Has there been any counts as to what the absen...</td>\n",
       "      <td>True</td>\n",
       "      <td>0.0</td>\n",
       "      <td>0.1280</td>\n",
       "      <td>0.038</td>\n",
       "      <td>Absent</td>\n",
       "      <td>LL</td>\n",
       "    </tr>\n",
       "    <tr>\n",
       "      <td>64323</td>\n",
       "      <td>d1fkcfd</td>\n",
       "      <td>mahakali_overdrive2</td>\n",
       "      <td>Liberal</td>\n",
       "      <td>d1fk7oy</td>\n",
       "      <td>Gummalillan</td>\n",
       "      <td>Liberal</td>\n",
       "      <td>SandersForPresident</td>\n",
       "      <td>If we don't act now, this could look like Ariz...</td>\n",
       "      <td>True</td>\n",
       "      <td>0.0</td>\n",
       "      <td>0.4411</td>\n",
       "      <td>0.028</td>\n",
       "      <td>Absent</td>\n",
       "      <td>LL</td>\n",
       "    </tr>\n",
       "    <tr>\n",
       "      <td>64324</td>\n",
       "      <td>d1fkcg3</td>\n",
       "      <td>JustDoinThings</td>\n",
       "      <td>Conservative</td>\n",
       "      <td>4c6w6h</td>\n",
       "      <td>Lightfiend</td>\n",
       "      <td>Conservative</td>\n",
       "      <td>The_Donald</td>\n",
       "      <td>tbqh it is our fault for not preparing for the...</td>\n",
       "      <td>True</td>\n",
       "      <td>0.0</td>\n",
       "      <td>-0.2230</td>\n",
       "      <td>0.061</td>\n",
       "      <td>Absent</td>\n",
       "      <td>CC</td>\n",
       "    </tr>\n",
       "  </tbody>\n",
       "</table>\n",
       "</div>"
      ],
      "text/plain": [
       "            id           speaker_id speaker_label parent_id addressee_id  \\\n",
       "64321  d1fkcdl          alleycatzzz       Liberal    4c716a     cmplxgal   \n",
       "64323  d1fkcfd  mahakali_overdrive2       Liberal   d1fk7oy  Gummalillan   \n",
       "64324  d1fkcg3       JustDoinThings  Conservative    4c6w6h   Lightfiend   \n",
       "\n",
       "      addressee_label            subreddit  \\\n",
       "64321         Liberal  SandersForPresident   \n",
       "64323         Liberal  SandersForPresident   \n",
       "64324    Conservative           The_Donald   \n",
       "\n",
       "                                                    text  is_comment  \\\n",
       "64321  Has there been any counts as to what the absen...        True   \n",
       "64323  If we don't act now, this could look like Ariz...        True   \n",
       "64324  tbqh it is our fault for not preparing for the...        True   \n",
       "\n",
       "       hate_count  compound_VADER  neg_VADER hate_presence interlocutors  \n",
       "64321         0.0          0.1280      0.038        Absent            LL  \n",
       "64323         0.0          0.4411      0.028        Absent            LL  \n",
       "64324         0.0         -0.2230      0.061        Absent            CC  "
      ]
     },
     "execution_count": 7,
     "metadata": {},
     "output_type": "execute_result"
    }
   ],
   "source": [
    "# Remove comments corresponding to unknown addressee(s):\n",
    "df = df[df['addressee_label'].notna()]\n",
    "print(df.shape)\n",
    "\n",
    "def f(row):\n",
    "    if row['speaker_label'] == 'Liberal' and row['addressee_label'] == 'Conservative':\n",
    "        val = 'LC'\n",
    "        \n",
    "    elif row['speaker_label'] == 'Liberal' and row['addressee_label'] == 'Liberal':\n",
    "        val = 'LL'\n",
    "        \n",
    "    elif row['speaker_label'] == 'Conservative' and row['addressee_label'] == 'Liberal':\n",
    "        val = 'CL'\n",
    "        \n",
    "    elif row['speaker_label'] == 'Conservative' and row['addressee_label'] == 'Conservative':\n",
    "        val = 'CC'\n",
    "    else:\n",
    "        print(\"Text = \", row['text'])\n",
    "        val = -1000000\n",
    "    return val\n",
    "\n",
    "df['interlocutors'] = df.apply(f, axis=1)\n",
    "df.head(3)"
   ]
  },
  {
   "cell_type": "code",
   "execution_count": 9,
   "metadata": {},
   "outputs": [
    {
     "data": {
      "text/plain": [
       "Text(0.5, 1.0, 'Hate-word-usage distribution for InGroup & OutGroup (2.9M)')"
      ]
     },
     "execution_count": 9,
     "metadata": {},
     "output_type": "execute_result"
    },
    {
     "data": {
      "image/png": "[encoded data removed]",
      "text/plain": [
       "<Figure size 432x288 with 1 Axes>"
      ]
     },
     "metadata": {
      "needs_background": "light"
     },
     "output_type": "display_data"
    }
   ],
   "source": [
    "p4 = sns.countplot(x=df['interlocutors'], hue=df['hate_presence'], order=(\"LL\", \"CC\", \"LC\", \"CL\"))\n",
    "p4.set_xlabel('Interlocutor')\n",
    "p4.set_ylabel('Count')\n",
    "p4.legend(title='Hate-word', title_fontsize=12)\n",
    "p4.set_title('Hate-word-usage distribution for InGroup & OutGroup (2.9M)', fontsize=14)"
   ]
  },
  {
   "cell_type": "code",
   "execution_count": 10,
   "metadata": {},
   "outputs": [
    {
     "data": {
      "text/plain": [
       "Text(0.5, 1.0, 'Hate-word-usage distribution only for OutGroup (2.9M)')"
      ]
     },
     "execution_count": 10,
     "metadata": {},
     "output_type": "execute_result"
    },
    {
     "data": {
      "image/png": "[encoded data removed]",
      "text/plain": [
       "<Figure size 432x288 with 1 Axes>"
      ]
     },
     "metadata": {
      "needs_background": "light"
     },
     "output_type": "display_data"
    }
   ],
   "source": [
    "p4 = sns.countplot(x=df['interlocutors'], hue=df['hate_presence'], order=(\"LC\", \"CL\"))\n",
    "p4.set_xlabel('Interlocutor')\n",
    "p4.set_ylabel('Count')\n",
    "p4.legend(title='Hate-word', title_fontsize=12)\n",
    "p4.set_title('Hate-word-usage distribution only for OutGroup (2.9M)', fontsize=14)"
   ]
  },
  {
   "cell_type": "markdown",
   "metadata": {},
   "source": [
    "# fin."
   ]
  }
 ],
 "metadata": {
  "kernelspec": {
   "display_name": "Python 3",
   "language": "python",
   "name": "python3"
  },
  "language_info": {
   "codemirror_mode": {
    "name": "ipython",
    "version": 3
   },
   "file_extension": ".py",
   "mimetype": "text/x-python",
   "name": "python",
   "nbconvert_exporter": "python",
   "pygments_lexer": "ipython3",
   "version": "3.7.4"
  }
 },
 "nbformat": 4,
 "nbformat_minor": 2
}
